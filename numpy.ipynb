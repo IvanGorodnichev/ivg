{
 "cells": [
  {
   "cell_type": "markdown",
   "metadata": {
    "id": "M-DGa20PaHnu"
   },
   "source": [
    "#Задача 1\n",
    "Написать функцию на вход которой подается строка, состоящая из латинских букв.\n",
    "Функция должна вернуть количество гласных букв (a, e, i, o, u) в этой строке. Написать тесты для кода"
   ]
  },
  {
   "cell_type": "code",
   "execution_count": 1,
   "metadata": {
    "id": "XvX8X_JJ6PCb"
   },
   "outputs": [
    {
     "name": "stdout",
     "output_type": "stream",
     "text": [
      "4\n",
      "Некорректный тип данных\n",
      "10\n",
      "2\n"
     ]
    }
   ],
   "source": [
    "vowel = ['a','e','i','o','u']\n",
    "first_test = \"quick brown fox\"\n",
    "second_test = 1273\n",
    "third_test = \"Quick brOwN fOx jump Around lazY dog\"\n",
    "fourth_test = \"Qu1ck b7own f0x\"\n",
    "\n",
    "def vowel_letters(promt):\n",
    "    vowel_counter = 0\n",
    "    try:\n",
    "        for letter in promt:\n",
    "            if letter.lower() in vowel:\n",
    "                vowel_counter += 1\n",
    "        return vowel_counter\n",
    "    except TypeError:\n",
    "        return \"Некорректный тип данных\"\n",
    "    \n",
    "print(vowel_letters(first_test))\n",
    "print(vowel_letters(second_test))\n",
    "print(vowel_letters(third_test))\n",
    "print(vowel_letters(fourth_test))"
   ]
  },
  {
   "cell_type": "markdown",
   "metadata": {
    "id": "t2ClV_Y0bbr6"
   },
   "source": [
    "# Задача 2\n",
    "Написать функцию на вход, которой подается строка. Функция должна вернуть true, если\n",
    "каждый символ в строке встречается только 1 раз, иначе должна вернуть false. Написать тесты для кода"
   ]
  },
  {
   "cell_type": "code",
   "execution_count": 2,
   "metadata": {
    "id": "FppbECao6VIz"
   },
   "outputs": [
    {
     "name": "stdout",
     "output_type": "stream",
     "text": [
      "True\n",
      "False\n",
      "False\n",
      "False\n",
      "True\n"
     ]
    }
   ],
   "source": [
    "def unique_string(promt):\n",
    "    return len(set(promt)) == len(promt)\n",
    "\n",
    "first_test = \"ABC\"\n",
    "second_test = \"Jump Around Lazy Dog\"\n",
    "third_test = \"W0-7$ld_N13VAht#-&rI4e\"\n",
    "fourth_test = \"I hate the antichrist\"\n",
    "five_test = \"AbcDeFGh\"\n",
    "\n",
    "print(unique_string(first_test))\n",
    "print(unique_string(second_test))\n",
    "print(unique_string(third_test))\n",
    "print(unique_string(fourth_test))\n",
    "print(unique_string(five_test))"
   ]
  },
  {
   "cell_type": "markdown",
   "metadata": {
    "id": "udRiIK1cdt6E"
   },
   "source": [
    "# Задача 3\n",
    "Написать функцию, которая принимает положительное число и возвращает количество\n",
    "бит равных 1 в этом числе. Написать тесты для кода"
   ]
  },
  {
   "cell_type": "code",
   "execution_count": 3,
   "metadata": {
    "id": "6tkfDJRz6dp_"
   },
   "outputs": [
    {
     "name": "stdout",
     "output_type": "stream",
     "text": [
      "3\n",
      "1\n",
      "0\n",
      "8\n",
      "19\n"
     ]
    }
   ],
   "source": [
    "def bit_counter(number):\n",
    "    return [bit for bit in bin(number)[2:]].count('1')\n",
    "\n",
    "print(bit_counter(7))\n",
    "print(bit_counter(2))\n",
    "print(bit_counter(0))\n",
    "print(bit_counter(255))\n",
    "print(bit_counter(75487375345738))"
   ]
  },
  {
   "cell_type": "markdown",
   "metadata": {
    "id": "26dDUz-Ae17N"
   },
   "source": [
    "# Задача 4\n",
    "Написать функцию, которая принимает положительное число. Функция должна вернуть то,\n",
    "сколько раз необходимо перемножать цифры числа или результат перемножения, чтобы\n",
    "получилось число состоящее из одной цифры.\n",
    "Например, для входного числа:\n",
    "· 39 функция должна вернуть 3, так как 3*9=27 => 2*7=14 => 1*4=4\n",
    "· 4 функция должна вернуть 0, так как число уже состоит из одной цифры\n",
    "· 999 функция должна вернуть 4, так как 9*9*9=729 => 7*2*9=126 => 1*2*6=12 =>\n",
    "1*2=2. Написать тесты для кода"
   ]
  },
  {
   "cell_type": "code",
   "execution_count": 5,
   "metadata": {},
   "outputs": [
    {
     "name": "stdout",
     "output_type": "stream",
     "text": [
      "4\n",
      "3\n",
      "3\n",
      "1\n"
     ]
    }
   ],
   "source": [
    "def multiply_iterations(num):\n",
    "    result = 1\n",
    "    for i in str(num):\n",
    "        result *= int(i)\n",
    "    return result\n",
    "    \n",
    "def magic(num):\n",
    "    \n",
    "    def multiply_iterations(num):\n",
    "        result = 1\n",
    "        for i in str(num):\n",
    "            result *= int(i)\n",
    "        return result\n",
    "    \n",
    "    if num < 10:\n",
    "        return 0\n",
    "    repeat_counter = 0\n",
    "    while (num > 10):\n",
    "        num = multiply_iterations(num)\n",
    "        repeat_counter += 1\n",
    "    return repeat_counter\n",
    "\n",
    "print(magic(999))\n",
    "print(magic(1488))\n",
    "print(magic(39))\n",
    "print(magic(14))"
   ]
  },
  {
   "cell_type": "markdown",
   "metadata": {
    "id": "0nS-kIa8g8vd"
   },
   "source": [
    "# Задача 5\n",
    "Написать функцию, которая принимает два целочисленных вектора одинаковой длины и\n",
    "возвращает среднеквадратическое отклонение двух векторов. Написать тесты для кода"
   ]
  },
  {
   "cell_type": "code",
   "execution_count": 7,
   "metadata": {
    "id": "BH1A_Mgi6i4G"
   },
   "outputs": [
    {
     "name": "stdout",
     "output_type": "stream",
     "text": [
      "1.2909944487358056\n",
      "0.816496580927726\n",
      "1.1547005383792515\n",
      "0.816496580927726\n"
     ]
    }
   ],
   "source": [
    "import math\n",
    "def mse(vector1, vector2):\n",
    "    difference_squad = []\n",
    "    for i in range(len(vector1)):\n",
    "        difference = (vector1[i] - vector2[i]) ** 2\n",
    "        difference_squad.append(difference)\n",
    "    return math.sqrt(sum(difference_squad) / len(difference_squad))\n",
    "\n",
    "vector1 = [1,2,3]\n",
    "vector2 = [1,1,1]\n",
    "vector3 = [2,2,2]\n",
    "vector4 = [1,2,1]\n",
    "\n",
    "print(mse(vector1, vector2))\n",
    "print(mse(vector1, vector3))\n",
    "print(mse(vector1, vector4))\n",
    "print(mse(vector3, vector4))"
   ]
  },
  {
   "cell_type": "markdown",
   "metadata": {
    "id": "vpIPKL439zkw"
   },
   "source": [
    "# Задача 6\n",
    "Написать функцию, принимающая целое положительное число. Функция должна вернуть\n",
    "строку вида “(n1**p1)(n2**p2)…(nk**pk)” представляющая разложение числа на простые\n",
    "множители (если pi == 1, то выводить только ni).\n",
    "Например, для числа 86240 функция должна вернуть “(2**5)(5)(7**2)(11)”. Написать тесты для кода"
   ]
  },
  {
   "cell_type": "code",
   "execution_count": 11,
   "metadata": {
    "id": "pFebmcZk94Jw"
   },
   "outputs": [
    {
     "name": "stdout",
     "output_type": "stream",
     "text": [
      "(2 ** 5)(5)(7 ** 2)(11)\n",
      "(2)(3)(62459)\n",
      "(7)\n",
      "(2 ** 4)(3)(31)\n"
     ]
    }
   ],
   "source": [
    "def simple_multp(num):\n",
    "    multipliers = {}\n",
    "    div = 2\n",
    "    while num > 1:\n",
    "        while num % div == 0:\n",
    "            if div in multipliers:\n",
    "                multipliers[div] += 1\n",
    "            else:\n",
    "                multipliers[div] = 1\n",
    "            num = num / div\n",
    "        div += 1\n",
    "    answer = \"\"\n",
    "    for key, value in multipliers.items():\n",
    "        if value == 1:\n",
    "            answer += f\"({key})\"\n",
    "        else:\n",
    "            answer += f\"({key} ** {value})\"\n",
    "    return answer\n",
    "\n",
    "print(simple_multp(86240))\n",
    "print(simple_multp(374754))\n",
    "print(simple_multp(7))\n",
    "print(simple_multp(1488))"
   ]
  },
  {
   "cell_type": "markdown",
   "metadata": {
    "id": "ps2s0BudX7A2"
   },
   "source": [
    "# Задача 7\n",
    "Написать функцию, принимающая целое число n, задающее количество кубиков. Функция\n",
    "должна определить, можно ли из данного кол-ва кубиков построить пирамиду, то есть\n",
    "можно ли представить число n как 1^2+2^2+3^2+…+k^2. Если можно, то функция должна\n",
    "вернуть k, иначе строку “It is impossible”. Написать тесты для кода"
   ]
  },
  {
   "cell_type": "code",
   "execution_count": 9,
   "metadata": {
    "id": "3YPjEXxhX_YT"
   },
   "outputs": [
    {
     "name": "stdout",
     "output_type": "stream",
     "text": [
      "2\n",
      "1\n",
      "It is impossible\n",
      "It is impossible\n",
      "7\n"
     ]
    }
   ],
   "source": [
    "def pyramid(number):\n",
    "    row = 1\n",
    "    pur = 1\n",
    "    while(number > pur):\n",
    "        row += 1\n",
    "        pur += row**2\n",
    "    if number == pur:\n",
    "        return row\n",
    "    else:\n",
    "        return \"It is impossible\"\n",
    "\n",
    "print(pyramid(5))\n",
    "print(pyramid(1))\n",
    "print(pyramid(111))\n",
    "print(pyramid(999))\n",
    "print(pyramid(140))"
   ]
  },
  {
   "cell_type": "markdown",
   "metadata": {
    "id": "KeKgmIdAQMEJ"
   },
   "source": [
    "# Задача 8\n",
    "Функция принимает на вход положительное число и определяет является ли оно сбалансированным, т.е. сумма цифр до средних равна сумме цифр после. Средними в случае нечетного числа цифр считать одну цифру, в случае четного - две средних. Написать тесты для кода"
   ]
  },
  {
   "cell_type": "code",
   "execution_count": 10,
   "metadata": {
    "id": "gMAAqtqlQrZt"
   },
   "outputs": [
    {
     "name": "stdout",
     "output_type": "stream",
     "text": [
      "True\n",
      "False\n",
      "True\n"
     ]
    }
   ],
   "source": [
    "def is_balanced(num):\n",
    "    numeral = str(num)\n",
    "    lenght = len(numeral)\n",
    "    \n",
    "    if lenght % 2 == 0:\n",
    "        first_half = numeral[:lenght // 2]\n",
    "        second_half = numeral[lenght // 2:]\n",
    "    else:\n",
    "        first_half = numeral[:lenght//2]\n",
    "        second_half = numeral[lenght//2 + 1:]\n",
    "    \n",
    "    def sum_half(numeral):\n",
    "        summ = 0\n",
    "        for digit in numeral:\n",
    "            summ += int(digit)\n",
    "        return summ\n",
    "    \n",
    "    return sum_half(first_half) == sum_half(second_half)\n",
    "\n",
    "print(is_balanced(121))\n",
    "print(is_balanced(1488))\n",
    "print(is_balanced(282))# Your code goes here"
   ]
  }
 ],
 "metadata": {
  "colab": {
   "provenance": []
  },
  "kernelspec": {
   "display_name": "Python 3 (ipykernel)",
   "language": "python",
   "name": "python3"
  },
  "language_info": {
   "codemirror_mode": {
    "name": "ipython",
    "version": 3
   },
   "file_extension": ".py",
   "mimetype": "text/x-python",
   "name": "python",
   "nbconvert_exporter": "python",
   "pygments_lexer": "ipython3",
   "version": "3.12.7"
  }
 },
 "nbformat": 4,
 "nbformat_minor": 4
}
